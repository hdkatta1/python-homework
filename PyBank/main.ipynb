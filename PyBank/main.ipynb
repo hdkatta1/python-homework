{
 "cells": [
  {
   "cell_type": "code",
   "execution_count": null,
   "id": "7bee55c5-2241-43e3-82ca-01367e717d45",
   "metadata": {},
   "outputs": [],
   "source": [
    "#created a file"
   ]
  }
 ],
 "metadata": {
  "kernelspec": {
   "display_name": "Python 3 (ipykernel)",
   "language": "python",
   "name": "python3"
  },
  "language_info": {
   "codemirror_mode": {
    "name": "ipython",
    "version": 3
   },
   "file_extension": ".py",
   "mimetype": "text/x-python",
   "name": "python",
   "nbconvert_exporter": "python",
   "pygments_lexer": "ipython3",
   "version": "3.9.13"
  }
 },
 "nbformat": 4,
 "nbformat_minor": 5
}
