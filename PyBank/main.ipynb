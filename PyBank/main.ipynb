{
 "cells": [
  {
   "cell_type": "code",
   "execution_count": 1,
   "id": "5c5807ba-f795-4ecf-b0f0-7f198d8cdfbc",
   "metadata": {},
   "outputs": [],
   "source": [
    "#importing libraries\n",
    "\n",
    "import pandas as pd\n",
    "import numpy as np\n",
    "import csv"
   ]
  },
  {
   "cell_type": "code",
   "execution_count": 4,
   "id": "41a7d1d7-57c9-491a-b95f-35ec7a7357ee",
   "metadata": {},
   "outputs": [
    {
     "data": {
      "text/plain": [
       "'C:\\\\Users\\\\User\\\\python-homework\\\\PyBank'"
      ]
     },
     "execution_count": 4,
     "metadata": {},
     "output_type": "execute_result"
    }
   ],
   "source": [
    "pwd\n"
   ]
  },
  {
   "cell_type": "code",
   "execution_count": 44,
   "id": "d450b816-9103-471e-8a82-8949b4587b3b",
   "metadata": {},
   "outputs": [
    {
     "name": "stdout",
     "output_type": "stream",
     "text": [
      "        Date  Profit/Losses\n",
      "0   Jan-2010         867884\n",
      "1   Feb-2010         984655\n",
      "2   Mar-2010         322013\n",
      "3   Apr-2010         -69417\n",
      "4   May-2010         310503\n",
      "..       ...            ...\n",
      "81  Oct-2016         102685\n",
      "82  Nov-2016         795914\n",
      "83  Dec-2016          60988\n",
      "84  Jan-2017         138230\n",
      "85  Feb-2017         671099\n",
      "\n",
      "[86 rows x 2 columns]\n"
     ]
    }
   ],
   "source": [
    "#reading the CSV File\n",
    "budget_info = pd.read_csv(\"Resources/budget_data.csv\")\n",
    "print(budget_info)\n"
   ]
  },
  {
   "cell_type": "code",
   "execution_count": 48,
   "id": "a7c77fc8-f343-4b1f-ab4c-c9c1474ed55f",
   "metadata": {},
   "outputs": [
    {
     "name": "stdout",
     "output_type": "stream",
     "text": [
      "86\n"
     ]
    }
   ],
   "source": [
    "# Calculating number of months included in the dataset\n",
    "total_months = len(budget_info['Date'].unique())\n",
    "print(total_months)"
   ]
  },
  {
   "cell_type": "code",
   "execution_count": 49,
   "id": "f6e3bb3e-4d1d-4823-b46d-74f716542f56",
   "metadata": {},
   "outputs": [
    {
     "data": {
      "text/plain": [
       "38382578"
      ]
     },
     "execution_count": 49,
     "metadata": {},
     "output_type": "execute_result"
    }
   ],
   "source": [
    "#net total amount of Profit/Losses over the entire period\n",
    "total_amount = sum(budget_info['Profit/Losses'])\n",
    "total_amount"
   ]
  },
  {
   "cell_type": "code",
   "execution_count": 24,
   "id": "cd40a0e9-3feb-47c5-b13c-9b048676616a",
   "metadata": {},
   "outputs": [
    {
     "data": {
      "text/plain": [
       "0     Jan-2010\n",
       "1     Feb-2010\n",
       "2     Mar-2010\n",
       "3     Apr-2010\n",
       "4     May-2010\n",
       "        ...   \n",
       "81    Oct-2016\n",
       "82    Nov-2016\n",
       "83    Dec-2016\n",
       "84    Jan-2017\n",
       "85    Feb-2017\n",
       "Name: Date, Length: 86, dtype: object"
      ]
     },
     "execution_count": 24,
     "metadata": {},
     "output_type": "execute_result"
    }
   ],
   "source": [
    "budget_info.Date\n"
   ]
  },
  {
   "cell_type": "code",
   "execution_count": 26,
   "id": "37817c8b-04d3-4948-939f-fecc7025f7aa",
   "metadata": {},
   "outputs": [],
   "source": [
    "budget_info[\"Date\"]= pd.to_datetime(budget_info.Date, format='%b-%Y')\n",
    "budget_info.sort_values(\"Date\", inplace=True)"
   ]
  },
  {
   "cell_type": "code",
   "execution_count": 27,
   "id": "c0045029-4ff2-407c-b5bf-e52e0825921a",
   "metadata": {},
   "outputs": [
    {
     "data": {
      "text/html": [
       "<div>\n",
       "<style scoped>\n",
       "    .dataframe tbody tr th:only-of-type {\n",
       "        vertical-align: middle;\n",
       "    }\n",
       "\n",
       "    .dataframe tbody tr th {\n",
       "        vertical-align: top;\n",
       "    }\n",
       "\n",
       "    .dataframe thead th {\n",
       "        text-align: right;\n",
       "    }\n",
       "</style>\n",
       "<table border=\"1\" class=\"dataframe\">\n",
       "  <thead>\n",
       "    <tr style=\"text-align: right;\">\n",
       "      <th></th>\n",
       "      <th>Date</th>\n",
       "      <th>Profit/Losses</th>\n",
       "    </tr>\n",
       "  </thead>\n",
       "  <tbody>\n",
       "    <tr>\n",
       "      <th>0</th>\n",
       "      <td>2010-01-01</td>\n",
       "      <td>867884</td>\n",
       "    </tr>\n",
       "    <tr>\n",
       "      <th>1</th>\n",
       "      <td>2010-02-01</td>\n",
       "      <td>984655</td>\n",
       "    </tr>\n",
       "    <tr>\n",
       "      <th>2</th>\n",
       "      <td>2010-03-01</td>\n",
       "      <td>322013</td>\n",
       "    </tr>\n",
       "    <tr>\n",
       "      <th>3</th>\n",
       "      <td>2010-04-01</td>\n",
       "      <td>-69417</td>\n",
       "    </tr>\n",
       "    <tr>\n",
       "      <th>4</th>\n",
       "      <td>2010-05-01</td>\n",
       "      <td>310503</td>\n",
       "    </tr>\n",
       "    <tr>\n",
       "      <th>...</th>\n",
       "      <td>...</td>\n",
       "      <td>...</td>\n",
       "    </tr>\n",
       "    <tr>\n",
       "      <th>81</th>\n",
       "      <td>2016-10-01</td>\n",
       "      <td>102685</td>\n",
       "    </tr>\n",
       "    <tr>\n",
       "      <th>82</th>\n",
       "      <td>2016-11-01</td>\n",
       "      <td>795914</td>\n",
       "    </tr>\n",
       "    <tr>\n",
       "      <th>83</th>\n",
       "      <td>2016-12-01</td>\n",
       "      <td>60988</td>\n",
       "    </tr>\n",
       "    <tr>\n",
       "      <th>84</th>\n",
       "      <td>2017-01-01</td>\n",
       "      <td>138230</td>\n",
       "    </tr>\n",
       "    <tr>\n",
       "      <th>85</th>\n",
       "      <td>2017-02-01</td>\n",
       "      <td>671099</td>\n",
       "    </tr>\n",
       "  </tbody>\n",
       "</table>\n",
       "<p>86 rows × 2 columns</p>\n",
       "</div>"
      ],
      "text/plain": [
       "         Date  Profit/Losses\n",
       "0  2010-01-01         867884\n",
       "1  2010-02-01         984655\n",
       "2  2010-03-01         322013\n",
       "3  2010-04-01         -69417\n",
       "4  2010-05-01         310503\n",
       "..        ...            ...\n",
       "81 2016-10-01         102685\n",
       "82 2016-11-01         795914\n",
       "83 2016-12-01          60988\n",
       "84 2017-01-01         138230\n",
       "85 2017-02-01         671099\n",
       "\n",
       "[86 rows x 2 columns]"
      ]
     },
     "execution_count": 27,
     "metadata": {},
     "output_type": "execute_result"
    }
   ],
   "source": [
    "#sorting the budget_info \n",
    "budget_info"
   ]
  },
  {
   "cell_type": "code",
   "execution_count": 28,
   "id": "51e3ebfa-1bcc-4d36-87fd-17841f9dd12c",
   "metadata": {},
   "outputs": [
    {
     "data": {
      "text/html": [
       "<div>\n",
       "<style scoped>\n",
       "    .dataframe tbody tr th:only-of-type {\n",
       "        vertical-align: middle;\n",
       "    }\n",
       "\n",
       "    .dataframe tbody tr th {\n",
       "        vertical-align: top;\n",
       "    }\n",
       "\n",
       "    .dataframe thead th {\n",
       "        text-align: right;\n",
       "    }\n",
       "</style>\n",
       "<table border=\"1\" class=\"dataframe\">\n",
       "  <thead>\n",
       "    <tr style=\"text-align: right;\">\n",
       "      <th></th>\n",
       "      <th>Profit/Losses</th>\n",
       "    </tr>\n",
       "    <tr>\n",
       "      <th>Date</th>\n",
       "      <th></th>\n",
       "    </tr>\n",
       "  </thead>\n",
       "  <tbody>\n",
       "    <tr>\n",
       "      <th>2010-01-01</th>\n",
       "      <td>NaN</td>\n",
       "    </tr>\n",
       "    <tr>\n",
       "      <th>2010-02-01</th>\n",
       "      <td>116771.0</td>\n",
       "    </tr>\n",
       "    <tr>\n",
       "      <th>2010-03-01</th>\n",
       "      <td>-662642.0</td>\n",
       "    </tr>\n",
       "    <tr>\n",
       "      <th>2010-04-01</th>\n",
       "      <td>-391430.0</td>\n",
       "    </tr>\n",
       "    <tr>\n",
       "      <th>2010-05-01</th>\n",
       "      <td>379920.0</td>\n",
       "    </tr>\n",
       "    <tr>\n",
       "      <th>...</th>\n",
       "      <td>...</td>\n",
       "    </tr>\n",
       "    <tr>\n",
       "      <th>2016-10-01</th>\n",
       "      <td>-665765.0</td>\n",
       "    </tr>\n",
       "    <tr>\n",
       "      <th>2016-11-01</th>\n",
       "      <td>693229.0</td>\n",
       "    </tr>\n",
       "    <tr>\n",
       "      <th>2016-12-01</th>\n",
       "      <td>-734926.0</td>\n",
       "    </tr>\n",
       "    <tr>\n",
       "      <th>2017-01-01</th>\n",
       "      <td>77242.0</td>\n",
       "    </tr>\n",
       "    <tr>\n",
       "      <th>2017-02-01</th>\n",
       "      <td>532869.0</td>\n",
       "    </tr>\n",
       "  </tbody>\n",
       "</table>\n",
       "<p>86 rows × 1 columns</p>\n",
       "</div>"
      ],
      "text/plain": [
       "            Profit/Losses\n",
       "Date                     \n",
       "2010-01-01            NaN\n",
       "2010-02-01       116771.0\n",
       "2010-03-01      -662642.0\n",
       "2010-04-01      -391430.0\n",
       "2010-05-01       379920.0\n",
       "...                   ...\n",
       "2016-10-01      -665765.0\n",
       "2016-11-01       693229.0\n",
       "2016-12-01      -734926.0\n",
       "2017-01-01        77242.0\n",
       "2017-02-01       532869.0\n",
       "\n",
       "[86 rows x 1 columns]"
      ]
     },
     "execution_count": 28,
     "metadata": {},
     "output_type": "execute_result"
    }
   ],
   "source": [
    "budget_info2 = budget_info.set_index('Date').diff()\n",
    "budget_info2"
   ]
  },
  {
   "cell_type": "code",
   "execution_count": 50,
   "id": "98616ca1-f1a8-435c-8aef-3f36d66063c0",
   "metadata": {},
   "outputs": [
    {
     "data": {
      "text/plain": [
       "-2315.12"
      ]
     },
     "execution_count": 50,
     "metadata": {},
     "output_type": "execute_result"
    }
   ],
   "source": [
    "#average of the changes in Profit/Losses over the entire period\n",
    "average = np.average(budget_info2['Profit/Losses'][1:])\n",
    "average = round(average,2)\n",
    "average"
   ]
  },
  {
   "cell_type": "code",
   "execution_count": 51,
   "id": "fc3b04ea-b050-437c-bd44-2dd897c7704d",
   "metadata": {},
   "outputs": [
    {
     "data": {
      "text/plain": [
       "1926159"
      ]
     },
     "execution_count": 51,
     "metadata": {},
     "output_type": "execute_result"
    }
   ],
   "source": [
    "#greatest increase in profits\n",
    "max_increase = np.max(budget_info2['Profit/Losses'])\n",
    "max_increase = round(max_increase)\n",
    "max_increase"
   ]
  },
  {
   "cell_type": "code",
   "execution_count": 52,
   "id": "781653fd-f371-4c70-bef3-4085e5290cfb",
   "metadata": {},
   "outputs": [
    {
     "data": {
      "text/plain": [
       "-2196167"
      ]
     },
     "execution_count": 52,
     "metadata": {},
     "output_type": "execute_result"
    }
   ],
   "source": [
    "#greatest decrease in losses\n",
    "max_decrease = round(np.min(budget_info2['Profit/Losses']))\n",
    "max_decrease"
   ]
  },
  {
   "cell_type": "code",
   "execution_count": 53,
   "id": "4a46f253-057c-4c07-ba1f-091fa0d968a2",
   "metadata": {},
   "outputs": [
    {
     "name": "stdout",
     "output_type": "stream",
     "text": [
      "Financial Analysis\n",
      "----------------------------\n",
      "Total Months: 86\n",
      "Total: $38382578\n",
      "Average Change: $-2315.12\n",
      "Greatest Increase in Profits: 1926159 ($1926159)\n",
      "Greatest Decrease in Profits: -2196167 ($-2196167)\n"
     ]
    }
   ],
   "source": [
    "# Adding financial analysis:\n",
    "financial_analysis = [\"Financial Analysis\",\n",
    "                      \"----------------------------\",\n",
    "                      f\"Total Months: {str(total_months)}\",\n",
    "                      f\"Total: ${str(total_amount)}\",\n",
    "                      f\"Average Change: ${round(average, 2)}\",\n",
    "                      f\"Greatest Increase in Profits: {max_increase} (${str(max_increase)})\",\n",
    "                      f\"Greatest Decrease in Profits: {max_decrease} (${str(max_decrease)})\"]\n",
    "\n",
    "\n",
    "for line in financial_analysis:\n",
    "    print (line)\n",
    "\n",
    "# adding financial analysis to a README.txt:\n",
    "with open('README.txt', 'w') as f:\n",
    "    for line in financial_analysis:\n",
    "        f.write(line)\n",
    "        f.write(\"\\n\")\n"
   ]
  },
  {
   "cell_type": "code",
   "execution_count": null,
   "id": "bcb5ccc1-0991-4765-b94f-77d3c4517e0f",
   "metadata": {},
   "outputs": [],
   "source": [
    "\n"
   ]
  },
  {
   "cell_type": "code",
   "execution_count": null,
   "id": "3f3a03a5-03c5-41ef-98a0-1931c10513af",
   "metadata": {},
   "outputs": [],
   "source": []
  }
 ],
 "metadata": {
  "kernelspec": {
   "display_name": "Python 3 (ipykernel)",
   "language": "python",
   "name": "python3"
  },
  "language_info": {
   "codemirror_mode": {
    "name": "ipython",
    "version": 3
   },
   "file_extension": ".py",
   "mimetype": "text/x-python",
   "name": "python",
   "nbconvert_exporter": "python",
   "pygments_lexer": "ipython3",
   "version": "3.9.13"
  }
 },
 "nbformat": 4,
 "nbformat_minor": 5
}
